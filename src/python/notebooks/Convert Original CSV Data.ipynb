{
 "cells": [
  {
   "cell_type": "markdown",
   "metadata": {},
   "source": [
    "### Import"
   ]
  },
  {
   "cell_type": "code",
   "execution_count": 79,
   "metadata": {},
   "outputs": [],
   "source": [
    "import os\n",
    "import sys\n",
    "import numpy as np\n",
    "import pandas as pd\n",
    "import shapefile \n",
    "import matplotlib.pyplot as plt"
   ]
  },
  {
   "cell_type": "markdown",
   "metadata": {},
   "source": [
    "### Load Shapefile"
   ]
  },
  {
   "cell_type": "code",
   "execution_count": 98,
   "metadata": {},
   "outputs": [],
   "source": [
    "geostates = shapefile.Reader('../../../data/tl_2017_us_state/tl_2017_us_state_lite.shp')"
   ]
  },
  {
   "cell_type": "markdown",
   "metadata": {},
   "source": [
    "### Find biggest part and get geocentroid"
   ]
  },
  {
   "cell_type": "code",
   "execution_count": 122,
   "metadata": {},
   "outputs": [],
   "source": [
    "geoStates = {}\n",
    "stateNames = []\n",
    "for s,sr in enumerate(geostates.shapeRecords()):\n",
    "    record = sr.record\n",
    "    stateName = record[6]\n",
    "    stateNames.append(stateName)\n",
    "    latitude = record[-2]\n",
    "    longitude = record[-1]\n",
    "    latitude = latitude.replace('+','')\n",
    "    longitude = longitude.replace('+','')\n",
    "    latitude = float(latitude.replace('-0','-'))\n",
    "    longitude = float(longitude.replace('-0','-'))\n",
    "    geoStates[stateName] = (latitude,longitude)"
   ]
  },
  {
   "cell_type": "markdown",
   "metadata": {},
   "source": [
    "### Load and Combine Flu Data"
   ]
  },
  {
   "cell_type": "code",
   "execution_count": 132,
   "metadata": {},
   "outputs": [],
   "source": [
    "myfiles = []\n",
    "data = []\n",
    "for root, dirs, files in os.walk(\"../../../data/\", topdown=False):\n",
    "    for name in files:\n",
    "        if ('.csv' in name and 'StateData' in name):\n",
    "            myfiles.append(os.path.join(root, name))\n",
    "for myfile in myfiles:\n",
    "    subset = pd.read_csv(myfile,delimiter=',')\n",
    "    data.append(subset)\n",
    "data = pd.concat(data,axis=0)\n",
    "data = data[['STATENAME','ACTIVITY LEVEL','WEEKEND','WEEK','SEASON']]\n",
    "data.columns = ['state','level','date','week','season']"
   ]
  },
  {
   "cell_type": "markdown",
   "metadata": {},
   "source": [
    "### Date Transform 1"
   ]
  },
  {
   "cell_type": "code",
   "execution_count": 133,
   "metadata": {},
   "outputs": [],
   "source": [
    "data['year'] = data['date'].str.slice(7)\n",
    "data['level'] = data['level'].str.slice(6)\n",
    "data['month'] = data['date'].str.slice(0,3)"
   ]
  },
  {
   "cell_type": "markdown",
   "metadata": {},
   "source": [
    "### Remove duplicates and obsolete states"
   ]
  },
  {
   "cell_type": "code",
   "execution_count": 135,
   "metadata": {},
   "outputs": [],
   "source": [
    "data = data.drop_duplicates(subset=None, keep='first', inplace=False)\n",
    "data = data[data['state'] != 'Commonwealth of the Northern Mariana Islands']\n",
    "data = data[data['state'] != 'Alaska']\n",
    "data = data[data['state'] != 'Hawaii']\n",
    "data = data[data['state'] != 'Virgin Islands']\n",
    "data = data[data['state'] != 'Puerto Rico']\n",
    "data = data[data['state'] != 'New York City']"
   ]
  },
  {
   "cell_type": "markdown",
   "metadata": {},
   "source": [
    "### Add Centroid to DataFrame"
   ]
  },
  {
   "cell_type": "code",
   "execution_count": 136,
   "metadata": {},
   "outputs": [],
   "source": [
    "latitudes = []\n",
    "longitudes = []\n",
    "states = data['state'].values\n",
    "for state in states:\n",
    "    centroid = geoStates[state]\n",
    "    latitudes.append(centroid[1])\n",
    "    longitudes.append(centroid[0])\n",
    "data['latitude'] = latitudes\n",
    "data['longitude'] = longitudes"
   ]
  },
  {
   "cell_type": "markdown",
   "metadata": {},
   "source": [
    "### Transform Date and get date"
   ]
  },
  {
   "cell_type": "code",
   "execution_count": 137,
   "metadata": {},
   "outputs": [],
   "source": [
    "data['datetime'] = pd.to_datetime(data['date'],infer_datetime_format=True)\n",
    "stateNames = np.unique(data['state'].values)"
   ]
  },
  {
   "cell_type": "markdown",
   "metadata": {},
   "source": [
    "### Create Timecourses for each state"
   ]
  },
  {
   "cell_type": "code",
   "execution_count": 139,
   "metadata": {},
   "outputs": [],
   "source": [
    "for state in stateNames:\n",
    "    subset = data[data['state'] == state]\n",
    "    subset = subset.sort_values(by='datetime')\n",
    "    subset.to_csv('../../../data/statebased/' + state + '.csv',index=False)"
   ]
  }
 ],
 "metadata": {
  "kernelspec": {
   "display_name": "Python 3",
   "language": "python",
   "name": "python3"
  },
  "language_info": {
   "codemirror_mode": {
    "name": "ipython",
    "version": 3
   },
   "file_extension": ".py",
   "mimetype": "text/x-python",
   "name": "python",
   "nbconvert_exporter": "python",
   "pygments_lexer": "ipython3",
   "version": "3.7.2"
  }
 },
 "nbformat": 4,
 "nbformat_minor": 2
}
