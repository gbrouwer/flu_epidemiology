{
 "cells": [
  {
   "cell_type": "markdown",
   "metadata": {},
   "source": [
    "### Import"
   ]
  },
  {
   "cell_type": "code",
   "execution_count": 131,
   "metadata": {},
   "outputs": [],
   "source": [
    "import os\n",
    "import sys\n",
    "import numpy as np\n",
    "import pandas as pd\n",
    "import shapefile \n",
    "import matplotlib.pyplot as plt"
   ]
  },
  {
   "cell_type": "markdown",
   "metadata": {},
   "source": [
    "### Load Shapefile"
   ]
  },
  {
   "cell_type": "code",
   "execution_count": 138,
   "metadata": {},
   "outputs": [],
   "source": [
    "geostates = shapefile.Reader('../../../data/tl_2017_us_state/tl_2017_us_state_lite.shp')"
   ]
  },
  {
   "cell_type": "markdown",
   "metadata": {},
   "source": [
    "### Get all state names"
   ]
  },
  {
   "cell_type": "code",
   "execution_count": 141,
   "metadata": {},
   "outputs": [],
   "source": [
    "states = []\n",
    "data = []\n",
    "for root, dirs, files in os.walk(\"../../../data/statebased\", topdown=False):\n",
    "    for name in files:\n",
    "        if ('.csv' in name):\n",
    "            states.append(name[:-4])\n",
    "states = np.sort(states)"
   ]
  },
  {
   "cell_type": "markdown",
   "metadata": {},
   "source": [
    "### Fill in missing points"
   ]
  },
  {
   "cell_type": "code",
   "execution_count": 143,
   "metadata": {},
   "outputs": [],
   "source": [
    "base = pd.read_csv('../../../data/statebased/New York' + '.csv')  \n",
    "base_datetime = base['date'].values\n",
    "for i in range(len(states)):\n",
    "    subset = pd.read_csv('../../../data/statebased/' + states[i] + '.csv')\n",
    "    subset_date = subset['date'].values\n",
    "    latitude = subset['latitude'].values[0] \n",
    "    longitude = subset['longitude'].values[0] \n",
    "    state = subset['state'].values[0]\n",
    "    for date in base_date:\n",
    "        if (date not in subset_date):\n",
    "            row = base[base['date'] == date].reset_index()\n",
    "            row['state'] = state\n",
    "            row['level'] = np.nan\n",
    "            row['latitude'] = latitude\n",
    "            row['longitude'] = longitude\n",
    "            subset = pd.concat((subset,row),axis=0,sort=False)\n",
    "    subset = subset[['state','level','date','week','year','month','latitude','longitude','datetime']]\n",
    "    subset = subset.sort_values(by='datetime')\n",
    "    subset.to_csv('../../../data/statebased_corrected/' + states[i] + '.csv',index=False) "
   ]
  }
 ],
 "metadata": {
  "kernelspec": {
   "display_name": "Python 3",
   "language": "python",
   "name": "python3"
  },
  "language_info": {
   "codemirror_mode": {
    "name": "ipython",
    "version": 3
   },
   "file_extension": ".py",
   "mimetype": "text/x-python",
   "name": "python",
   "nbconvert_exporter": "python",
   "pygments_lexer": "ipython3",
   "version": "3.7.2"
  }
 },
 "nbformat": 4,
 "nbformat_minor": 2
}
